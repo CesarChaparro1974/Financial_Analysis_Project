{
 "cells": [
  {
   "cell_type": "markdown",
   "metadata": {},
   "source": [
    "## FINAL PROJECT: The Plan"
   ]
  },
  {
   "cell_type": "markdown",
   "metadata": {},
   "source": [
    "##### *Cesar Chaparro - DA Student*"
   ]
  },
  {
   "cell_type": "markdown",
   "metadata": {},
   "source": [
    "***"
   ]
  },
  {
   "cell_type": "markdown",
   "metadata": {},
   "source": [
    "### Client: AtliQ Hardware."
   ]
  },
  {
   "cell_type": "markdown",
   "metadata": {},
   "source": [
    "### AtliQ Hardware is one of the leading computer harware producers in India, and has even expanded into more than 7 countries as well. They sell different types of hardware to big players such as Amazon, Best Buy, and Walmart.<br>\n",
    "### This year, they're asking PWC to conduct a big audit of their sales and help them automate their existing data."
   ]
  },
  {
   "cell_type": "markdown",
   "metadata": {},
   "source": [
    "***"
   ]
  },
  {
   "cell_type": "markdown",
   "metadata": {},
   "source": [
    "### FINNANCIAL ANALYSIS"
   ]
  },
  {
   "cell_type": "markdown",
   "metadata": {},
   "source": [
    "#### DECOMPOSITION AND RESEARCH TASKS:"
   ]
  },
  {
   "cell_type": "markdown",
   "metadata": {},
   "source": [
    "### 1. Definition of Objectives and Key Questions"
   ]
  },
  {
   "cell_type": "markdown",
   "metadata": {},
   "source": [
    "#### Objective: Understand how revenue, profits, and margins have changed over time. Analyze shifts in the market and identify the most profitable categories.<br>\n",
    "#### Key Questions:<br>\n",
    "- How have revenue and profits trended over the years?<br>\n",
    "- What are the profit margins, and how have they evolved?<br>\n",
    "- Which markets, platforms, or channels have driven the most revenue and profit?<br>\n",
    "- What categories of products are the most profitable?<br>\n",
    "- How have different regions/subzones contributed to revenue and profit?<br>\n",
    "- Are there any noticeable shifts in market trends or customer preferences?"
   ]
  },
  {
   "cell_type": "markdown",
   "metadata": {},
   "source": [
    "***"
   ]
  },
  {
   "cell_type": "markdown",
   "metadata": {},
   "source": [
    "### 2. Identify the Important Metrics"
   ]
  },
  {
   "cell_type": "markdown",
   "metadata": {},
   "source": [
    "#### Revenue Metrics:<br>\n",
    "- Total Revenue: Sum of gross_price * sold_quantity from fact_sales_monthly.\n",
    "- Revenue Growth Rate: Percentage increase/decrease in revenue year-over-year.\n",
    "#### Profit Metrics:\n",
    "- Gross Profit: Revenue minus the manufacturing cost (gross_price * sold_quantity - manufacturing_cost * sold_quantity).\n",
    "- Profit Margin: Gross profit as a percentage of total revenue.\n",
    "- Net Profit: Gross profit minus pre-invoice discounts (gross_profit - (pre_invoice_discount_pct * gross_profit)).\n",
    "- Net Profit Margin: Net profit as a percentage of total revenue.\n",
    "#### Market and Category Metrics:\n",
    "- Revenue by Market: Revenue broken down by market.\n",
    "- Revenue by Platform: Revenue broken down by platform.\n",
    "- Profit by Category: Profitability of different segment and category.\n",
    "#### Trend Metrics:<br>\n",
    "- Market Share: Proportion of total revenue by market.\n",
    "- Revenue/Profit by Year: Trend of revenue and profit over time (fiscal_year)."
   ]
  },
  {
   "cell_type": "markdown",
   "metadata": {},
   "source": [
    "***"
   ]
  },
  {
   "cell_type": "markdown",
   "metadata": {},
   "source": [
    "### 3. Data Preparation and Cleaning"
   ]
  },
  {
   "cell_type": "markdown",
   "metadata": {},
   "source": [
    "#### Data Integrity Check:<br>\n",
    "- Ensure each market belongs to one sub_zone and region.\n",
    "- Validate that each customer has only one associated platform.\n",
    "- Check that product_code is consistent across all fact tables.\n",
    "- Verify that there are only 3 unique values in the division column of the dim_product table.\n",
    "- Verify that there are only 6 unique values in the segment column of the dim_product table.\n",
    "- Verify that each single market belongs to a one subzone and one region only.\n",
    "#### Handle Missing Data:<br>\n",
    "- Identify and address missing values in key columns like gross_price, manufacturing_cost, and sold_quantity.\n",
    "- Impute or remove records with missing data as appropriate.\n",
    "#### Feature Engineering:<br>\n",
    "- Create new features like gross_profit, net_profit, profit_margin, and net_profit_margin for further analysis.\n",
    "- Aggregate data by fiscal_year, market, platform, etc., to facilitate trend analysis."
   ]
  },
  {
   "cell_type": "markdown",
   "metadata": {},
   "source": [
    "***"
   ]
  },
  {
   "cell_type": "markdown",
   "metadata": {},
   "source": [
    "### 4. Exploratory Data Analysis (EDA)"
   ]
  },
  {
   "cell_type": "markdown",
   "metadata": {},
   "source": [
    "#### Descriptive Statistics:<br>\n",
    "- Calculate mean, median, and standard deviation for revenue, profit, and margin metrics.\n",
    "- Identify outliers or unusual trends in the data.\n",
    "#### Trend Analysis:<br>\n",
    "- Plot revenue, profit, and margin over time to visualize trends.\n",
    "- Use time series analysis to forecast future revenue and profit.\n",
    "#### Segment Analysis:<br>\n",
    "- Break down revenue and profit by platform, market, region, and category.\n",
    "- Identify which segments contribute most to overall profitability.\n",
    "#### Correlation Analysis:<br>\n",
    "- Analyze the relationship between different metrics (e.g., how does discount percentage affect net profit?).\n",
    "- Look for correlations between market conditions and profitability."
   ]
  },
  {
   "cell_type": "markdown",
   "metadata": {},
   "source": [
    "***"
   ]
  },
  {
   "cell_type": "markdown",
   "metadata": {},
   "source": [
    "### 5. Identifying Problems or Questions to Address"
   ]
  },
  {
   "cell_type": "markdown",
   "metadata": {},
   "source": [
    "#### Profitability Issues:<br>\n",
    "- Are certain markets or platforms less profitable? If so, why?\n",
    "- Is there a declining trend in any key categories or segments?\n",
    "#### Market Shifts:<br>\n",
    "- Are there shifts in revenue from one platform to another (e.g., from Brick & Mortar to E-Commerce)?\n",
    "- Are there emerging markets or declining markets based on the data?\n",
    "#### Cost Efficiency:<br>\n",
    "- Are manufacturing costs rising, and how does this affect profit margins?\n",
    "- Are discounts eroding profitability in certain markets or for certain customers?"
   ]
  },
  {
   "cell_type": "markdown",
   "metadata": {},
   "source": [
    "***"
   ]
  },
  {
   "cell_type": "markdown",
   "metadata": {},
   "source": [
    "### 6. Research and Contextual Understanding"
   ]
  },
  {
   "cell_type": "markdown",
   "metadata": {},
   "source": [
    "#### Industry Benchmarks:<br>\n",
    "- Research industry standards for profit margins, cost structures, and market share to compare with your findings.\n",
    "#### Economic Factors:<br>\n",
    "- Consider external economic factors that may have influenced market trends (e.g., currency fluctuations, economic downturns).\n",
    "#### Competitor Analysis:\n",
    "- Research competitors' performance in similar markets to understand potential threats or opportunities.\n"
   ]
  },
  {
   "cell_type": "markdown",
   "metadata": {},
   "source": [
    "***"
   ]
  },
  {
   "cell_type": "markdown",
   "metadata": {},
   "source": [
    "### 7. Hypothesis Formation and Testing"
   ]
  },
  {
   "cell_type": "markdown",
   "metadata": {},
   "source": [
    "#### Based on the EDA, form hypotheses about what drives revenue and profit. For example:<br>\n",
    "- \"E-Commerce platform is more profitable due to lower overhead costs.\"\n",
    "- \"The market in Japan has seen a decline due to increased competition.\"\n",
    "#### Design experiments or statistical tests to validate these hypotheses."
   ]
  },
  {
   "cell_type": "markdown",
   "metadata": {},
   "source": [
    "***"
   ]
  },
  {
   "cell_type": "markdown",
   "metadata": {},
   "source": [
    "### 8. Visualization and Reporting"
   ]
  },
  {
   "cell_type": "markdown",
   "metadata": {},
   "source": [
    "#### Dashboards:<br>\n",
    "- Create visualizations to represent the trends, comparisons, and insights derived from the data.\n",
    "\n",
    "#### Report:<br>\n",
    "- Compile a report summarizing findings, insights, and recommendations based on the analysis.\n",
    "- Ensure that the report answers the key questions posed at the beginning of the project."
   ]
  },
  {
   "cell_type": "markdown",
   "metadata": {},
   "source": [
    "***"
   ]
  },
  {
   "cell_type": "markdown",
   "metadata": {},
   "source": [
    "### 9. Actionable Recommendations"
   ]
  },
  {
   "cell_type": "markdown",
   "metadata": {},
   "source": [
    "#### Based on the analysis, provide recommendations for business strategies to improve revenue, optimize profits, and adapt to market shifts. These could include:<br>\n",
    "- Focusing more on profitable platforms or markets.\n",
    "- Reducing costs in certain product lines.\n",
    "- Increasing marketing efforts in emerging markets or declining segments."
   ]
  },
  {
   "cell_type": "markdown",
   "metadata": {},
   "source": [
    "***"
   ]
  },
  {
   "cell_type": "markdown",
   "metadata": {},
   "source": [
    "### 10. Tools used through the project"
   ]
  },
  {
   "cell_type": "markdown",
   "metadata": {},
   "source": [
    "#### - SQL (SQLite): Use SQL databases to store, query, and manipulate large datasets efficiently.<br>\n",
    "#### - Pandas (Python): For in-memory data manipulation and analysis. Pandas for loading data from SQL databases, performing data cleaning, transformation, and aggregation.<br>"
   ]
  },
  {
   "cell_type": "markdown",
   "metadata": {},
   "source": [
    "#### - Matplotlib & Seaborn (Python): For generating plots and visualizations. These libraries are useful for visualizing trends, distributions, and relationships in the data.<br>\n",
    "#### - Tableau: For creating interactive dashboards to visualize trends and insights from the data. They are excellent for communicating findings to stakeholders."
   ]
  },
  {
   "cell_type": "markdown",
   "metadata": {},
   "source": [
    "#### - Markdown (Jupyter Notebooks): To document my process and findings within Jupyter Notebooks using Markdown cells."
   ]
  },
  {
   "cell_type": "markdown",
   "metadata": {},
   "source": [
    "#### - Git/GitHub: For version control, allowing to track changes to all the code, data queries, and reports. Specially useful to work in a team."
   ]
  },
  {
   "cell_type": "markdown",
   "metadata": {},
   "source": [
    "***"
   ]
  }
 ],
 "metadata": {
  "kernelspec": {
   "display_name": "Python 3",
   "language": "python",
   "name": "python3"
  },
  "language_info": {
   "codemirror_mode": {
    "name": "ipython",
    "version": 3
   },
   "file_extension": ".py",
   "mimetype": "text/x-python",
   "name": "python",
   "nbconvert_exporter": "python",
   "pygments_lexer": "ipython3",
   "version": "3.11.9"
  }
 },
 "nbformat": 4,
 "nbformat_minor": 2
}
